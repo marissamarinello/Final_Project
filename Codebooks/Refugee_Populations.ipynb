{
  "nbformat": 4,
  "nbformat_minor": 0,
  "metadata": {
    "colab": {
      "name": "Refugee_Populations.ipynb",
      "version": "0.3.2",
      "provenance": []
    },
    "kernelspec": {
      "name": "python3",
      "display_name": "Python 3"
    }
  },
  "cells": [
    {
      "metadata": {
        "id": "ScchaFalK3Tl",
        "colab_type": "text"
      },
      "cell_type": "markdown",
      "source": [
        "# Research Question:\n",
        "\n",
        "How do refugee populations change over time? \n",
        "\n",
        "How does the refugee population change in terms of demographics (where are the refugees coming from) and in sheer size? \n",
        "\n",
        "Are there differences in time frame? \n",
        "\n",
        "Are there certain groups of refugees who make up a larger proportion of total refugees over time?\n",
        "\n",
        "\n",
        "To look at: \n",
        "- track number of refugees in Jordan, Lebanon, and Turkey from 2005 - 2019\n",
        "  - we want to track from 2005 to witness how the country was dealing with refugees before witnessing a huge influx of individuals and after refugee/asylee numbers rapidly increased\n",
        "  - these tables will help to identify when major changes in refugee/asylee populations took place in each country, and the extent to which they increased \n",
        "- track population make up of refugees over time for each country \n",
        "\n",
        "##Data sources:\n",
        "- [UNHCR Statistics Portal](http://popstats.unhcr.org/en/time_series): For the Syrian Statistics Tables for Jordan, Lebanon, and Turkey, data is used from the United Nations High Commissoner for Refugees Statistics Portal time series data. \n",
        "\n",
        "- [Financial Tracking Service](https://fts.unocha.org/appeals/724/flows?fts_c=simple_property_4%2Cdirectional_property%2Cdirectional_property_1%2Cdirectional_property_3%2Csimple_property%2Cdirectional_property_2%2Csimple_property_1%2Csimple_property_2%2Csimple_property_3%2Cdirectional_property_4%2Cdirectional_property_8#block-system-main):\n",
        "This data is used to track funding for the Syrian refugee crisis and funding to meet the requests of the UNHCR for the 3RP ([Syrian Refugee Response and Resiliancy Plan](http://reporting.unhcr.org/sites/default/files/Syria%203RP%20Regional%20Strategic%20Overview%202018-2019%20%28December%202017%29.pdf?v=2)). This specific data set shows funding from various sources, the destination organization, funding amount and status, destination country, and destination crisis.\n",
        "\n",
        "- [Integrated Nettwork for Societal Conflict Research (INSCR)](http://www.systemicpeace.org/inscrdata.html):  This data is used to observe a time series of \"Major Episodes of Political Violence, 1946-2017\" with specific focus on the conflict in Syria. This can be used to see how major episodes of political violence correlates with refugee population changes in Jordan, Lebanon, and Turkey. "
      ]
    },
    {
      "metadata": {
        "id": "-wKej5JBYFc_",
        "colab_type": "text"
      },
      "cell_type": "markdown",
      "source": [
        "## Sryian refugees in Jordan, Lebanon, and Turkey\n",
        "\n",
        "This table represents the population of both refugees and asylum seekers coming from Syria and entering Jordan, Lebanon, and Turkey from 2005 - 2017. \n",
        "\n",
        "The data for the following tables was retrieved from the United Nations High Commissioner for Refugees Population Statistics portal [available here](http://popstats.unhcr.org/en/time_series).\n",
        "\n",
        "*Note: this is the source used for Jordan, Lebanon, and Turkey*\n",
        "\n",
        "*Another note: in each table, Value = Population size*\n"
      ]
    },
    {
      "metadata": {
        "id": "LvH4JBhzNKrc",
        "colab_type": "code",
        "colab": {}
      },
      "cell_type": "code",
      "source": [
        "import pandas as pd"
      ],
      "execution_count": 0,
      "outputs": []
    },
    {
      "metadata": {
        "id": "4ZCeU0ycivI1",
        "colab_type": "text"
      },
      "cell_type": "markdown",
      "source": [
        "##Jordan\n",
        "\n",
        "Syrian Statistics Table for Jordan"
      ]
    },
    {
      "metadata": {
        "id": "QJXPfA2MNaxa",
        "colab_type": "code",
        "outputId": "7f7dd84a-db1f-4224-fe2a-ae8e5fe0e295",
        "colab": {
          "base_uri": "https://localhost:8080/",
          "height": 782
        }
      },
      "cell_type": "code",
      "source": [
        "samplesyrianpop_jordan = pd.read_excel(\"syrianpop_jordan.xlsx\")\n",
        "print(samplesyrianpop_jordan)\n"
      ],
      "execution_count": 0,
      "outputs": [
        {
          "output_type": "stream",
          "text": [
            "    Year Country / territory of asylum/residence            Origin  \\\n",
            "0   2005                                  Jordan  Syrian Arab Rep.   \n",
            "1   2005                                  Jordan  Syrian Arab Rep.   \n",
            "2   2006                                  Jordan  Syrian Arab Rep.   \n",
            "3   2006                                  Jordan  Syrian Arab Rep.   \n",
            "4   2007                                  Jordan  Syrian Arab Rep.   \n",
            "5   2007                                  Jordan  Syrian Arab Rep.   \n",
            "6   2008                                  Jordan  Syrian Arab Rep.   \n",
            "7   2008                                  Jordan  Syrian Arab Rep.   \n",
            "8   2009                                  Jordan  Syrian Arab Rep.   \n",
            "9   2009                                  Jordan  Syrian Arab Rep.   \n",
            "10  2010                                  Jordan  Syrian Arab Rep.   \n",
            "11  2010                                  Jordan  Syrian Arab Rep.   \n",
            "12  2011                                  Jordan  Syrian Arab Rep.   \n",
            "13  2011                                  Jordan  Syrian Arab Rep.   \n",
            "14  2012                                  Jordan  Syrian Arab Rep.   \n",
            "15  2012                                  Jordan  Syrian Arab Rep.   \n",
            "16  2013                                  Jordan  Syrian Arab Rep.   \n",
            "17  2014                                  Jordan  Syrian Arab Rep.   \n",
            "18  2015                                  Jordan  Syrian Arab Rep.   \n",
            "19  2016                                  Jordan  Syrian Arab Rep.   \n",
            "20  2017                                  Jordan  Syrian Arab Rep.   \n",
            "\n",
            "                             Population type   Value  \n",
            "0                             Asylum-seekers      65  \n",
            "1   Refugees (incl. refugee-like situations)      40  \n",
            "2                             Asylum-seekers      57  \n",
            "3   Refugees (incl. refugee-like situations)      42  \n",
            "4                             Asylum-seekers      60  \n",
            "5   Refugees (incl. refugee-like situations)      41  \n",
            "6                             Asylum-seekers     124  \n",
            "7   Refugees (incl. refugee-like situations)      44  \n",
            "8                             Asylum-seekers     144  \n",
            "9   Refugees (incl. refugee-like situations)     138  \n",
            "10                            Asylum-seekers     287  \n",
            "11  Refugees (incl. refugee-like situations)     198  \n",
            "12                            Asylum-seekers    2618  \n",
            "13  Refugees (incl. refugee-like situations)     193  \n",
            "14                            Asylum-seekers     491  \n",
            "15  Refugees (incl. refugee-like situations)  238798  \n",
            "16  Refugees (incl. refugee-like situations)  585304  \n",
            "17  Refugees (incl. refugee-like situations)  623112  \n",
            "18  Refugees (incl. refugee-like situations)  628223  \n",
            "19  Refugees (incl. refugee-like situations)  648836  \n",
            "20  Refugees (incl. refugee-like situations)  653031  \n"
          ],
          "name": "stdout"
        }
      ]
    },
    {
      "metadata": {
        "id": "lkRdCwrVQpO1",
        "colab_type": "code",
        "outputId": "f4d20808-bdc8-432b-8128-4b3b3538131a",
        "colab": {
          "base_uri": "https://localhost:8080/",
          "height": 85
        }
      },
      "cell_type": "code",
      "source": [
        "print(samplesyrianpop_jordan.columns)\n",
        "print(list(samplesyrianpop_jordan))\n"
      ],
      "execution_count": 0,
      "outputs": [
        {
          "output_type": "stream",
          "text": [
            "Index(['Year', 'Country / territory of asylum/residence', 'Origin',\n",
            "       'Population type', 'Value'],\n",
            "      dtype='object')\n",
            "['Year', 'Country / territory of asylum/residence', 'Origin', 'Population type', 'Value']\n"
          ],
          "name": "stdout"
        }
      ]
    },
    {
      "metadata": {
        "id": "MZ4B_gFAxJyf",
        "colab_type": "code",
        "colab": {}
      },
      "cell_type": "code",
      "source": [
        ""
      ],
      "execution_count": 0,
      "outputs": []
    },
    {
      "metadata": {
        "id": "Ga5VSRFKaWyo",
        "colab_type": "text"
      },
      "cell_type": "markdown",
      "source": [
        "###Jordan: \n",
        "Modified Syrian Statistics Table- Year,  Population type, Value"
      ]
    },
    {
      "metadata": {
        "id": "C7_zIuhKQx8Y",
        "colab_type": "code",
        "outputId": "cdf5e3a8-80da-4a18-c6d6-f47af1d38e0d",
        "colab": {
          "base_uri": "https://localhost:8080/",
          "height": 782
        }
      },
      "cell_type": "code",
      "source": [
        "jordanstats = samplesyrianpop_jordan[[\"Year\", \"Country / territory of asylum/residence\", \"Population type\", \"Value\"]]\n",
        "print(jordanstats)"
      ],
      "execution_count": 0,
      "outputs": [
        {
          "output_type": "stream",
          "text": [
            "    Year Country / territory of asylum/residence  \\\n",
            "0   2005                                  Jordan   \n",
            "1   2005                                  Jordan   \n",
            "2   2006                                  Jordan   \n",
            "3   2006                                  Jordan   \n",
            "4   2007                                  Jordan   \n",
            "5   2007                                  Jordan   \n",
            "6   2008                                  Jordan   \n",
            "7   2008                                  Jordan   \n",
            "8   2009                                  Jordan   \n",
            "9   2009                                  Jordan   \n",
            "10  2010                                  Jordan   \n",
            "11  2010                                  Jordan   \n",
            "12  2011                                  Jordan   \n",
            "13  2011                                  Jordan   \n",
            "14  2012                                  Jordan   \n",
            "15  2012                                  Jordan   \n",
            "16  2013                                  Jordan   \n",
            "17  2014                                  Jordan   \n",
            "18  2015                                  Jordan   \n",
            "19  2016                                  Jordan   \n",
            "20  2017                                  Jordan   \n",
            "\n",
            "                             Population type   Value  \n",
            "0                             Asylum-seekers      65  \n",
            "1   Refugees (incl. refugee-like situations)      40  \n",
            "2                             Asylum-seekers      57  \n",
            "3   Refugees (incl. refugee-like situations)      42  \n",
            "4                             Asylum-seekers      60  \n",
            "5   Refugees (incl. refugee-like situations)      41  \n",
            "6                             Asylum-seekers     124  \n",
            "7   Refugees (incl. refugee-like situations)      44  \n",
            "8                             Asylum-seekers     144  \n",
            "9   Refugees (incl. refugee-like situations)     138  \n",
            "10                            Asylum-seekers     287  \n",
            "11  Refugees (incl. refugee-like situations)     198  \n",
            "12                            Asylum-seekers    2618  \n",
            "13  Refugees (incl. refugee-like situations)     193  \n",
            "14                            Asylum-seekers     491  \n",
            "15  Refugees (incl. refugee-like situations)  238798  \n",
            "16  Refugees (incl. refugee-like situations)  585304  \n",
            "17  Refugees (incl. refugee-like situations)  623112  \n",
            "18  Refugees (incl. refugee-like situations)  628223  \n",
            "19  Refugees (incl. refugee-like situations)  648836  \n",
            "20  Refugees (incl. refugee-like situations)  653031  \n"
          ],
          "name": "stdout"
        }
      ]
    },
    {
      "metadata": {
        "id": "619hLQK0OxgQ",
        "colab_type": "code",
        "outputId": "caf1e76d-875b-4278-fccf-fa23d22ba5f9",
        "colab": {
          "base_uri": "https://localhost:8080/",
          "height": 1173
        }
      },
      "cell_type": "code",
      "source": [
        "jordanstats[\"year_type\"]= jordanstats[\"Year\"].apply(str) + \"_\" + jordanstats[\"Population type\"]\n",
        "print(jordanstats)"
      ],
      "execution_count": 0,
      "outputs": [
        {
          "output_type": "stream",
          "text": [
            "    Year Country / territory of asylum/residence  \\\n",
            "0   2005                                  Jordan   \n",
            "1   2005                                  Jordan   \n",
            "2   2006                                  Jordan   \n",
            "3   2006                                  Jordan   \n",
            "4   2007                                  Jordan   \n",
            "5   2007                                  Jordan   \n",
            "6   2008                                  Jordan   \n",
            "7   2008                                  Jordan   \n",
            "8   2009                                  Jordan   \n",
            "9   2009                                  Jordan   \n",
            "10  2010                                  Jordan   \n",
            "11  2010                                  Jordan   \n",
            "12  2011                                  Jordan   \n",
            "13  2011                                  Jordan   \n",
            "14  2012                                  Jordan   \n",
            "15  2012                                  Jordan   \n",
            "16  2013                                  Jordan   \n",
            "17  2014                                  Jordan   \n",
            "18  2015                                  Jordan   \n",
            "19  2016                                  Jordan   \n",
            "20  2017                                  Jordan   \n",
            "\n",
            "                             Population type   Value  \\\n",
            "0                             Asylum-seekers      65   \n",
            "1   Refugees (incl. refugee-like situations)      40   \n",
            "2                             Asylum-seekers      57   \n",
            "3   Refugees (incl. refugee-like situations)      42   \n",
            "4                             Asylum-seekers      60   \n",
            "5   Refugees (incl. refugee-like situations)      41   \n",
            "6                             Asylum-seekers     124   \n",
            "7   Refugees (incl. refugee-like situations)      44   \n",
            "8                             Asylum-seekers     144   \n",
            "9   Refugees (incl. refugee-like situations)     138   \n",
            "10                            Asylum-seekers     287   \n",
            "11  Refugees (incl. refugee-like situations)     198   \n",
            "12                            Asylum-seekers    2618   \n",
            "13  Refugees (incl. refugee-like situations)     193   \n",
            "14                            Asylum-seekers     491   \n",
            "15  Refugees (incl. refugee-like situations)  238798   \n",
            "16  Refugees (incl. refugee-like situations)  585304   \n",
            "17  Refugees (incl. refugee-like situations)  623112   \n",
            "18  Refugees (incl. refugee-like situations)  628223   \n",
            "19  Refugees (incl. refugee-like situations)  648836   \n",
            "20  Refugees (incl. refugee-like situations)  653031   \n",
            "\n",
            "                                        year_type  \n",
            "0                             2005_Asylum-seekers  \n",
            "1   2005_Refugees (incl. refugee-like situations)  \n",
            "2                             2006_Asylum-seekers  \n",
            "3   2006_Refugees (incl. refugee-like situations)  \n",
            "4                             2007_Asylum-seekers  \n",
            "5   2007_Refugees (incl. refugee-like situations)  \n",
            "6                             2008_Asylum-seekers  \n",
            "7   2008_Refugees (incl. refugee-like situations)  \n",
            "8                             2009_Asylum-seekers  \n",
            "9   2009_Refugees (incl. refugee-like situations)  \n",
            "10                            2010_Asylum-seekers  \n",
            "11  2010_Refugees (incl. refugee-like situations)  \n",
            "12                            2011_Asylum-seekers  \n",
            "13  2011_Refugees (incl. refugee-like situations)  \n",
            "14                            2012_Asylum-seekers  \n",
            "15  2012_Refugees (incl. refugee-like situations)  \n",
            "16  2013_Refugees (incl. refugee-like situations)  \n",
            "17  2014_Refugees (incl. refugee-like situations)  \n",
            "18  2015_Refugees (incl. refugee-like situations)  \n",
            "19  2016_Refugees (incl. refugee-like situations)  \n",
            "20  2017_Refugees (incl. refugee-like situations)  \n"
          ],
          "name": "stdout"
        }
      ]
    },
    {
      "metadata": {
        "id": "mDXprGEZcVzI",
        "colab_type": "text"
      },
      "cell_type": "markdown",
      "source": [
        "###Jordan Totals\n",
        "Combining totals of refugees + asylum seekers for each year.\n",
        "- Doing this because some years have multiple values; one value for refugees and one value for asylum seekers."
      ]
    },
    {
      "metadata": {
        "id": "9S4ujEFaQyU2",
        "colab_type": "code",
        "outputId": "72583075-cf80-4de7-ec66-acad7764f81b",
        "colab": {
          "base_uri": "https://localhost:8080/",
          "height": 272
        }
      },
      "cell_type": "code",
      "source": [
        "jordantotals = jordanstats.groupby(\"Year\").sum()\n",
        "print(jordantotals)"
      ],
      "execution_count": 0,
      "outputs": [
        {
          "output_type": "stream",
          "text": [
            "       Value\n",
            "Year        \n",
            "2005     105\n",
            "2006      99\n",
            "2007     101\n",
            "2008     168\n",
            "2009     282\n",
            "2010     485\n",
            "2011    2811\n",
            "2012  239289\n",
            "2013  585304\n",
            "2014  623112\n",
            "2015  628223\n",
            "2016  648836\n",
            "2017  653031\n"
          ],
          "name": "stdout"
        }
      ]
    },
    {
      "metadata": {
        "id": "uSCw9WhHRXsb",
        "colab_type": "code",
        "outputId": "b563ee01-4862-41a6-ce07-07ab7183e787",
        "colab": {
          "base_uri": "https://localhost:8080/",
          "height": 272
        }
      },
      "cell_type": "code",
      "source": [
        "jordantotals[\"Country\"] = \"Jordan\"\n",
        "jordantotals[\"Years\"] = jordantotals.index\n",
        "jordantotals.rename(index = {\"Year\": \"IndexYear\"})\n",
        "\n",
        "print(jordantotals)"
      ],
      "execution_count": 0,
      "outputs": [
        {
          "output_type": "stream",
          "text": [
            "       Value Country  Years\n",
            "Year                       \n",
            "2005     105  Jordan   2005\n",
            "2006      99  Jordan   2006\n",
            "2007     101  Jordan   2007\n",
            "2008     168  Jordan   2008\n",
            "2009     282  Jordan   2009\n",
            "2010     485  Jordan   2010\n",
            "2011    2811  Jordan   2011\n",
            "2012  239289  Jordan   2012\n",
            "2013  585304  Jordan   2013\n",
            "2014  623112  Jordan   2014\n",
            "2015  628223  Jordan   2015\n",
            "2016  648836  Jordan   2016\n",
            "2017  653031  Jordan   2017\n"
          ],
          "name": "stdout"
        }
      ]
    },
    {
      "metadata": {
        "id": "MXuzIOqEcppi",
        "colab_type": "text"
      },
      "cell_type": "markdown",
      "source": [
        "##Lebanon Syrian Statistics\n",
        "Population of refugees and asylum seekers from Syria per year in Lebanon."
      ]
    },
    {
      "metadata": {
        "id": "uZj68fhiXu1-",
        "colab_type": "code",
        "outputId": "fc4f79e1-a589-46bb-9956-ad0051d47b72",
        "colab": {
          "base_uri": "https://localhost:8080/",
          "height": 884
        }
      },
      "cell_type": "code",
      "source": [
        "samplesyrianpop_lebanon = pd.read_excel(\"syrianpop_lebanon.xlsx\")\n",
        "print(samplesyrianpop_lebanon)"
      ],
      "execution_count": 0,
      "outputs": [
        {
          "output_type": "stream",
          "text": [
            "    Year Country / territory of asylum/residence            Origin  \\\n",
            "0   2006                                 Lebanon  Syrian Arab Rep.   \n",
            "1   2006                                 Lebanon  Syrian Arab Rep.   \n",
            "2   2007                                 Lebanon  Syrian Arab Rep.   \n",
            "3   2007                                 Lebanon  Syrian Arab Rep.   \n",
            "4   2008                                 Lebanon  Syrian Arab Rep.   \n",
            "5   2008                                 Lebanon  Syrian Arab Rep.   \n",
            "6   2009                                 Lebanon  Syrian Arab Rep.   \n",
            "7   2009                                 Lebanon  Syrian Arab Rep.   \n",
            "8   2010                                 Lebanon  Syrian Arab Rep.   \n",
            "9   2010                                 Lebanon  Syrian Arab Rep.   \n",
            "10  2011                                 Lebanon  Syrian Arab Rep.   \n",
            "11  2011                                 Lebanon  Syrian Arab Rep.   \n",
            "12  2012                                 Lebanon  Syrian Arab Rep.   \n",
            "13  2012                                 Lebanon  Syrian Arab Rep.   \n",
            "14  2013                                 Lebanon  Syrian Arab Rep.   \n",
            "15  2013                                 Lebanon  Syrian Arab Rep.   \n",
            "16  2014                                 Lebanon  Syrian Arab Rep.   \n",
            "17  2014                                 Lebanon  Syrian Arab Rep.   \n",
            "18  2015                                 Lebanon  Syrian Arab Rep.   \n",
            "19  2015                                 Lebanon  Syrian Arab Rep.   \n",
            "20  2016                                 Lebanon  Syrian Arab Rep.   \n",
            "21  2016                                 Lebanon  Syrian Arab Rep.   \n",
            "22  2017                                 Lebanon  Syrian Arab Rep.   \n",
            "23  2017                                 Lebanon  Syrian Arab Rep.   \n",
            "\n",
            "                             Population type    Value  \n",
            "0                             Asylum-seekers       18  \n",
            "1   Refugees (incl. refugee-like situations)        6  \n",
            "2                             Asylum-seekers       42  \n",
            "3   Refugees (incl. refugee-like situations)       48  \n",
            "4                             Asylum-seekers       66  \n",
            "5   Refugees (incl. refugee-like situations)       84  \n",
            "6                             Asylum-seekers      100  \n",
            "7   Refugees (incl. refugee-like situations)       90  \n",
            "8                             Asylum-seekers      141  \n",
            "9   Refugees (incl. refugee-like situations)       64  \n",
            "10                            Asylum-seekers      367  \n",
            "11  Refugees (incl. refugee-like situations)      124  \n",
            "12                            Asylum-seekers      242  \n",
            "13  Refugees (incl. refugee-like situations)   126939  \n",
            "14                            Asylum-seekers      331  \n",
            "15  Refugees (incl. refugee-like situations)   851284  \n",
            "16                            Asylum-seekers      417  \n",
            "17  Refugees (incl. refugee-like situations)  1147494  \n",
            "18                            Asylum-seekers       15  \n",
            "19  Refugees (incl. refugee-like situations)  1062690  \n",
            "20                            Asylum-seekers       10  \n",
            "21  Refugees (incl. refugee-like situations)  1005503  \n",
            "22                            Asylum-seekers        8  \n",
            "23  Refugees (incl. refugee-like situations)   992127  \n"
          ],
          "name": "stdout"
        }
      ]
    },
    {
      "metadata": {
        "id": "FYsPzly4c1IL",
        "colab_type": "text"
      },
      "cell_type": "markdown",
      "source": [
        "###Lebanon\n",
        "Modified Syrian Statistics Table: Year, Country, Population Type, Value"
      ]
    },
    {
      "metadata": {
        "id": "XRLGs1GcX-Nu",
        "colab_type": "code",
        "outputId": "e0be1ee6-b7b1-4808-ad3a-5b2917fb8631",
        "colab": {
          "base_uri": "https://localhost:8080/",
          "height": 884
        }
      },
      "cell_type": "code",
      "source": [
        "lebanonstats = samplesyrianpop_lebanon[[\"Year\", \"Country / territory of asylum/residence\", \"Population type\", \"Value\"]]\n",
        "print(lebanonstats)"
      ],
      "execution_count": 0,
      "outputs": [
        {
          "output_type": "stream",
          "text": [
            "    Year Country / territory of asylum/residence  \\\n",
            "0   2006                                 Lebanon   \n",
            "1   2006                                 Lebanon   \n",
            "2   2007                                 Lebanon   \n",
            "3   2007                                 Lebanon   \n",
            "4   2008                                 Lebanon   \n",
            "5   2008                                 Lebanon   \n",
            "6   2009                                 Lebanon   \n",
            "7   2009                                 Lebanon   \n",
            "8   2010                                 Lebanon   \n",
            "9   2010                                 Lebanon   \n",
            "10  2011                                 Lebanon   \n",
            "11  2011                                 Lebanon   \n",
            "12  2012                                 Lebanon   \n",
            "13  2012                                 Lebanon   \n",
            "14  2013                                 Lebanon   \n",
            "15  2013                                 Lebanon   \n",
            "16  2014                                 Lebanon   \n",
            "17  2014                                 Lebanon   \n",
            "18  2015                                 Lebanon   \n",
            "19  2015                                 Lebanon   \n",
            "20  2016                                 Lebanon   \n",
            "21  2016                                 Lebanon   \n",
            "22  2017                                 Lebanon   \n",
            "23  2017                                 Lebanon   \n",
            "\n",
            "                             Population type    Value  \n",
            "0                             Asylum-seekers       18  \n",
            "1   Refugees (incl. refugee-like situations)        6  \n",
            "2                             Asylum-seekers       42  \n",
            "3   Refugees (incl. refugee-like situations)       48  \n",
            "4                             Asylum-seekers       66  \n",
            "5   Refugees (incl. refugee-like situations)       84  \n",
            "6                             Asylum-seekers      100  \n",
            "7   Refugees (incl. refugee-like situations)       90  \n",
            "8                             Asylum-seekers      141  \n",
            "9   Refugees (incl. refugee-like situations)       64  \n",
            "10                            Asylum-seekers      367  \n",
            "11  Refugees (incl. refugee-like situations)      124  \n",
            "12                            Asylum-seekers      242  \n",
            "13  Refugees (incl. refugee-like situations)   126939  \n",
            "14                            Asylum-seekers      331  \n",
            "15  Refugees (incl. refugee-like situations)   851284  \n",
            "16                            Asylum-seekers      417  \n",
            "17  Refugees (incl. refugee-like situations)  1147494  \n",
            "18                            Asylum-seekers       15  \n",
            "19  Refugees (incl. refugee-like situations)  1062690  \n",
            "20                            Asylum-seekers       10  \n",
            "21  Refugees (incl. refugee-like situations)  1005503  \n",
            "22                            Asylum-seekers        8  \n",
            "23  Refugees (incl. refugee-like situations)   992127  \n"
          ],
          "name": "stdout"
        }
      ]
    },
    {
      "metadata": {
        "id": "WcDQJMMnNUX4",
        "colab_type": "code",
        "outputId": "5eb76bb0-8e90-41ba-be54-ad74eb1ae176",
        "colab": {
          "base_uri": "https://localhost:8080/",
          "height": 1326
        }
      },
      "cell_type": "code",
      "source": [
        "lebanonstats[\"year_type\"]= lebanonstats[\"Year\"].apply(str) + \"_\" + lebanonstats[\"Population type\"]\n",
        "print(lebanonstats)"
      ],
      "execution_count": 0,
      "outputs": [
        {
          "output_type": "stream",
          "text": [
            "    Year Country / territory of asylum/residence  \\\n",
            "0   2006                                 Lebanon   \n",
            "1   2006                                 Lebanon   \n",
            "2   2007                                 Lebanon   \n",
            "3   2007                                 Lebanon   \n",
            "4   2008                                 Lebanon   \n",
            "5   2008                                 Lebanon   \n",
            "6   2009                                 Lebanon   \n",
            "7   2009                                 Lebanon   \n",
            "8   2010                                 Lebanon   \n",
            "9   2010                                 Lebanon   \n",
            "10  2011                                 Lebanon   \n",
            "11  2011                                 Lebanon   \n",
            "12  2012                                 Lebanon   \n",
            "13  2012                                 Lebanon   \n",
            "14  2013                                 Lebanon   \n",
            "15  2013                                 Lebanon   \n",
            "16  2014                                 Lebanon   \n",
            "17  2014                                 Lebanon   \n",
            "18  2015                                 Lebanon   \n",
            "19  2015                                 Lebanon   \n",
            "20  2016                                 Lebanon   \n",
            "21  2016                                 Lebanon   \n",
            "22  2017                                 Lebanon   \n",
            "23  2017                                 Lebanon   \n",
            "\n",
            "                             Population type    Value  \\\n",
            "0                             Asylum-seekers       18   \n",
            "1   Refugees (incl. refugee-like situations)        6   \n",
            "2                             Asylum-seekers       42   \n",
            "3   Refugees (incl. refugee-like situations)       48   \n",
            "4                             Asylum-seekers       66   \n",
            "5   Refugees (incl. refugee-like situations)       84   \n",
            "6                             Asylum-seekers      100   \n",
            "7   Refugees (incl. refugee-like situations)       90   \n",
            "8                             Asylum-seekers      141   \n",
            "9   Refugees (incl. refugee-like situations)       64   \n",
            "10                            Asylum-seekers      367   \n",
            "11  Refugees (incl. refugee-like situations)      124   \n",
            "12                            Asylum-seekers      242   \n",
            "13  Refugees (incl. refugee-like situations)   126939   \n",
            "14                            Asylum-seekers      331   \n",
            "15  Refugees (incl. refugee-like situations)   851284   \n",
            "16                            Asylum-seekers      417   \n",
            "17  Refugees (incl. refugee-like situations)  1147494   \n",
            "18                            Asylum-seekers       15   \n",
            "19  Refugees (incl. refugee-like situations)  1062690   \n",
            "20                            Asylum-seekers       10   \n",
            "21  Refugees (incl. refugee-like situations)  1005503   \n",
            "22                            Asylum-seekers        8   \n",
            "23  Refugees (incl. refugee-like situations)   992127   \n",
            "\n",
            "                                        year_type  \n",
            "0                             2006_Asylum-seekers  \n",
            "1   2006_Refugees (incl. refugee-like situations)  \n",
            "2                             2007_Asylum-seekers  \n",
            "3   2007_Refugees (incl. refugee-like situations)  \n",
            "4                             2008_Asylum-seekers  \n",
            "5   2008_Refugees (incl. refugee-like situations)  \n",
            "6                             2009_Asylum-seekers  \n",
            "7   2009_Refugees (incl. refugee-like situations)  \n",
            "8                             2010_Asylum-seekers  \n",
            "9   2010_Refugees (incl. refugee-like situations)  \n",
            "10                            2011_Asylum-seekers  \n",
            "11  2011_Refugees (incl. refugee-like situations)  \n",
            "12                            2012_Asylum-seekers  \n",
            "13  2012_Refugees (incl. refugee-like situations)  \n",
            "14                            2013_Asylum-seekers  \n",
            "15  2013_Refugees (incl. refugee-like situations)  \n",
            "16                            2014_Asylum-seekers  \n",
            "17  2014_Refugees (incl. refugee-like situations)  \n",
            "18                            2015_Asylum-seekers  \n",
            "19  2015_Refugees (incl. refugee-like situations)  \n",
            "20                            2016_Asylum-seekers  \n",
            "21  2016_Refugees (incl. refugee-like situations)  \n",
            "22                            2017_Asylum-seekers  \n",
            "23  2017_Refugees (incl. refugee-like situations)  \n"
          ],
          "name": "stdout"
        }
      ]
    },
    {
      "metadata": {
        "id": "xvAxWzXpc-qj",
        "colab_type": "text"
      },
      "cell_type": "markdown",
      "source": [
        "###Lebanon Totals\n",
        "Combined totals per year of refugees and asylum seekers."
      ]
    },
    {
      "metadata": {
        "id": "U52Cd8ZSSDP_",
        "colab_type": "code",
        "outputId": "27df32cc-8420-4417-fe7a-6d50d42ce495",
        "colab": {
          "base_uri": "https://localhost:8080/",
          "height": 493
        }
      },
      "cell_type": "code",
      "source": [
        "lebanontotals = lebanonstats.groupby(\"Year\").sum()\n",
        "print(lebanontotals)\n",
        "\n",
        "lebanontotals[\"Country\"] = \"Lebanon\"\n",
        "lebanontotals[\"Years\"] = lebanontotals.index\n",
        "lebanontotals.rename(index = {\"Year\": \"IndexYear\"})\n",
        "print(lebanontotals)"
      ],
      "execution_count": 0,
      "outputs": [
        {
          "output_type": "stream",
          "text": [
            "        Value\n",
            "Year         \n",
            "2006       24\n",
            "2007       90\n",
            "2008      150\n",
            "2009      190\n",
            "2010      205\n",
            "2011      491\n",
            "2012   127181\n",
            "2013   851615\n",
            "2014  1147911\n",
            "2015  1062705\n",
            "2016  1005513\n",
            "2017   992135\n",
            "        Value  Country  Years\n",
            "Year                         \n",
            "2006       24  Lebanon   2006\n",
            "2007       90  Lebanon   2007\n",
            "2008      150  Lebanon   2008\n",
            "2009      190  Lebanon   2009\n",
            "2010      205  Lebanon   2010\n",
            "2011      491  Lebanon   2011\n",
            "2012   127181  Lebanon   2012\n",
            "2013   851615  Lebanon   2013\n",
            "2014  1147911  Lebanon   2014\n",
            "2015  1062705  Lebanon   2015\n",
            "2016  1005513  Lebanon   2016\n",
            "2017   992135  Lebanon   2017\n"
          ],
          "name": "stdout"
        }
      ]
    },
    {
      "metadata": {
        "id": "O1Q9Hmk_dD1E",
        "colab_type": "text"
      },
      "cell_type": "markdown",
      "source": [
        "###Combining Jordan and Lebanon Syrian Statistics Tables."
      ]
    },
    {
      "metadata": {
        "id": "J3toCrcTY2ND",
        "colab_type": "code",
        "outputId": "a3ea8154-41ea-4ac5-e9ee-da505f89d824",
        "colab": {
          "base_uri": "https://localhost:8080/",
          "height": 2380
        }
      },
      "cell_type": "code",
      "source": [
        "syrians_jd_lb = jordanstats.merge(lebanonstats, on=\"year_type\", how=\"outer\")\n",
        "print(syrians_jd_lb)"
      ],
      "execution_count": 0,
      "outputs": [
        {
          "output_type": "stream",
          "text": [
            "    Year_x Country / territory of asylum/residence_x  \\\n",
            "0   2005.0                                    Jordan   \n",
            "1   2005.0                                    Jordan   \n",
            "2   2006.0                                    Jordan   \n",
            "3   2006.0                                    Jordan   \n",
            "4   2007.0                                    Jordan   \n",
            "5   2007.0                                    Jordan   \n",
            "6   2008.0                                    Jordan   \n",
            "7   2008.0                                    Jordan   \n",
            "8   2009.0                                    Jordan   \n",
            "9   2009.0                                    Jordan   \n",
            "10  2010.0                                    Jordan   \n",
            "11  2010.0                                    Jordan   \n",
            "12  2011.0                                    Jordan   \n",
            "13  2011.0                                    Jordan   \n",
            "14  2012.0                                    Jordan   \n",
            "15  2012.0                                    Jordan   \n",
            "16  2013.0                                    Jordan   \n",
            "17  2014.0                                    Jordan   \n",
            "18  2015.0                                    Jordan   \n",
            "19  2016.0                                    Jordan   \n",
            "20  2017.0                                    Jordan   \n",
            "21     NaN                                       NaN   \n",
            "22     NaN                                       NaN   \n",
            "23     NaN                                       NaN   \n",
            "24     NaN                                       NaN   \n",
            "25     NaN                                       NaN   \n",
            "\n",
            "                           Population type_x   Value_x  \\\n",
            "0                             Asylum-seekers      65.0   \n",
            "1   Refugees (incl. refugee-like situations)      40.0   \n",
            "2                             Asylum-seekers      57.0   \n",
            "3   Refugees (incl. refugee-like situations)      42.0   \n",
            "4                             Asylum-seekers      60.0   \n",
            "5   Refugees (incl. refugee-like situations)      41.0   \n",
            "6                             Asylum-seekers     124.0   \n",
            "7   Refugees (incl. refugee-like situations)      44.0   \n",
            "8                             Asylum-seekers     144.0   \n",
            "9   Refugees (incl. refugee-like situations)     138.0   \n",
            "10                            Asylum-seekers     287.0   \n",
            "11  Refugees (incl. refugee-like situations)     198.0   \n",
            "12                            Asylum-seekers    2618.0   \n",
            "13  Refugees (incl. refugee-like situations)     193.0   \n",
            "14                            Asylum-seekers     491.0   \n",
            "15  Refugees (incl. refugee-like situations)  238798.0   \n",
            "16  Refugees (incl. refugee-like situations)  585304.0   \n",
            "17  Refugees (incl. refugee-like situations)  623112.0   \n",
            "18  Refugees (incl. refugee-like situations)  628223.0   \n",
            "19  Refugees (incl. refugee-like situations)  648836.0   \n",
            "20  Refugees (incl. refugee-like situations)  653031.0   \n",
            "21                                       NaN       NaN   \n",
            "22                                       NaN       NaN   \n",
            "23                                       NaN       NaN   \n",
            "24                                       NaN       NaN   \n",
            "25                                       NaN       NaN   \n",
            "\n",
            "                                        year_type  Year_y  \\\n",
            "0                             2005_Asylum-seekers     NaN   \n",
            "1   2005_Refugees (incl. refugee-like situations)     NaN   \n",
            "2                             2006_Asylum-seekers  2006.0   \n",
            "3   2006_Refugees (incl. refugee-like situations)  2006.0   \n",
            "4                             2007_Asylum-seekers  2007.0   \n",
            "5   2007_Refugees (incl. refugee-like situations)  2007.0   \n",
            "6                             2008_Asylum-seekers  2008.0   \n",
            "7   2008_Refugees (incl. refugee-like situations)  2008.0   \n",
            "8                             2009_Asylum-seekers  2009.0   \n",
            "9   2009_Refugees (incl. refugee-like situations)  2009.0   \n",
            "10                            2010_Asylum-seekers  2010.0   \n",
            "11  2010_Refugees (incl. refugee-like situations)  2010.0   \n",
            "12                            2011_Asylum-seekers  2011.0   \n",
            "13  2011_Refugees (incl. refugee-like situations)  2011.0   \n",
            "14                            2012_Asylum-seekers  2012.0   \n",
            "15  2012_Refugees (incl. refugee-like situations)  2012.0   \n",
            "16  2013_Refugees (incl. refugee-like situations)  2013.0   \n",
            "17  2014_Refugees (incl. refugee-like situations)  2014.0   \n",
            "18  2015_Refugees (incl. refugee-like situations)  2015.0   \n",
            "19  2016_Refugees (incl. refugee-like situations)  2016.0   \n",
            "20  2017_Refugees (incl. refugee-like situations)  2017.0   \n",
            "21                            2013_Asylum-seekers  2013.0   \n",
            "22                            2014_Asylum-seekers  2014.0   \n",
            "23                            2015_Asylum-seekers  2015.0   \n",
            "24                            2016_Asylum-seekers  2016.0   \n",
            "25                            2017_Asylum-seekers  2017.0   \n",
            "\n",
            "   Country / territory of asylum/residence_y  \\\n",
            "0                                        NaN   \n",
            "1                                        NaN   \n",
            "2                                    Lebanon   \n",
            "3                                    Lebanon   \n",
            "4                                    Lebanon   \n",
            "5                                    Lebanon   \n",
            "6                                    Lebanon   \n",
            "7                                    Lebanon   \n",
            "8                                    Lebanon   \n",
            "9                                    Lebanon   \n",
            "10                                   Lebanon   \n",
            "11                                   Lebanon   \n",
            "12                                   Lebanon   \n",
            "13                                   Lebanon   \n",
            "14                                   Lebanon   \n",
            "15                                   Lebanon   \n",
            "16                                   Lebanon   \n",
            "17                                   Lebanon   \n",
            "18                                   Lebanon   \n",
            "19                                   Lebanon   \n",
            "20                                   Lebanon   \n",
            "21                                   Lebanon   \n",
            "22                                   Lebanon   \n",
            "23                                   Lebanon   \n",
            "24                                   Lebanon   \n",
            "25                                   Lebanon   \n",
            "\n",
            "                           Population type_y    Value_y  \n",
            "0                                        NaN        NaN  \n",
            "1                                        NaN        NaN  \n",
            "2                             Asylum-seekers       18.0  \n",
            "3   Refugees (incl. refugee-like situations)        6.0  \n",
            "4                             Asylum-seekers       42.0  \n",
            "5   Refugees (incl. refugee-like situations)       48.0  \n",
            "6                             Asylum-seekers       66.0  \n",
            "7   Refugees (incl. refugee-like situations)       84.0  \n",
            "8                             Asylum-seekers      100.0  \n",
            "9   Refugees (incl. refugee-like situations)       90.0  \n",
            "10                            Asylum-seekers      141.0  \n",
            "11  Refugees (incl. refugee-like situations)       64.0  \n",
            "12                            Asylum-seekers      367.0  \n",
            "13  Refugees (incl. refugee-like situations)      124.0  \n",
            "14                            Asylum-seekers      242.0  \n",
            "15  Refugees (incl. refugee-like situations)   126939.0  \n",
            "16  Refugees (incl. refugee-like situations)   851284.0  \n",
            "17  Refugees (incl. refugee-like situations)  1147494.0  \n",
            "18  Refugees (incl. refugee-like situations)  1062690.0  \n",
            "19  Refugees (incl. refugee-like situations)  1005503.0  \n",
            "20  Refugees (incl. refugee-like situations)   992127.0  \n",
            "21                            Asylum-seekers      331.0  \n",
            "22                            Asylum-seekers      417.0  \n",
            "23                            Asylum-seekers       15.0  \n",
            "24                            Asylum-seekers       10.0  \n",
            "25                            Asylum-seekers        8.0  \n"
          ],
          "name": "stdout"
        }
      ]
    },
    {
      "metadata": {
        "id": "0SEMkEKxdIyQ",
        "colab_type": "text"
      },
      "cell_type": "markdown",
      "source": [
        "###Combining Jordan and Lebanon totals tables:"
      ]
    },
    {
      "metadata": {
        "id": "Hwal0wHWSZF9",
        "colab_type": "code",
        "outputId": "b673d424-f06c-49f0-ba24-29a2c572518f",
        "colab": {
          "base_uri": "https://localhost:8080/",
          "height": 255
        }
      },
      "cell_type": "code",
      "source": [
        "totals_jd_lb = jordantotals.merge(lebanontotals, on=\"Years\", how=\"outer\")\n",
        "print(totals_jd_lb)"
      ],
      "execution_count": 0,
      "outputs": [
        {
          "output_type": "stream",
          "text": [
            "    Value_x Country_x  Years    Value_y Country_y\n",
            "0       105    Jordan   2005        NaN       NaN\n",
            "1        99    Jordan   2006       24.0   Lebanon\n",
            "2       101    Jordan   2007       90.0   Lebanon\n",
            "3       168    Jordan   2008      150.0   Lebanon\n",
            "4       282    Jordan   2009      190.0   Lebanon\n",
            "5       485    Jordan   2010      205.0   Lebanon\n",
            "6      2811    Jordan   2011      491.0   Lebanon\n",
            "7    239289    Jordan   2012   127181.0   Lebanon\n",
            "8    585304    Jordan   2013   851615.0   Lebanon\n",
            "9    623112    Jordan   2014  1147911.0   Lebanon\n",
            "10   628223    Jordan   2015  1062705.0   Lebanon\n",
            "11   648836    Jordan   2016  1005513.0   Lebanon\n",
            "12   653031    Jordan   2017   992135.0   Lebanon\n"
          ],
          "name": "stdout"
        }
      ]
    },
    {
      "metadata": {
        "id": "dL0TuGkLdNaT",
        "colab_type": "text"
      },
      "cell_type": "markdown",
      "source": [
        "##Turkey\n",
        "Syrian Statistics table for Turkey "
      ]
    },
    {
      "metadata": {
        "id": "yM7pkJJLZNeo",
        "colab_type": "code",
        "outputId": "0555319e-f0e3-4202-ee9b-45cff716b770",
        "colab": {
          "base_uri": "https://localhost:8080/",
          "height": 952
        }
      },
      "cell_type": "code",
      "source": [
        "samplesyrianpop_turkey = pd.read_excel(\"syrianpop_turkey.xlsx\")\n",
        "print(samplesyrianpop_turkey)"
      ],
      "execution_count": 0,
      "outputs": [
        {
          "output_type": "stream",
          "text": [
            "    Year Country / territory of asylum/residence            Origin  \\\n",
            "0   2005                                  Turkey  Syrian Arab Rep.   \n",
            "1   2005                                  Turkey  Syrian Arab Rep.   \n",
            "2   2006                                  Turkey  Syrian Arab Rep.   \n",
            "3   2006                                  Turkey  Syrian Arab Rep.   \n",
            "4   2007                                  Turkey  Syrian Arab Rep.   \n",
            "5   2007                                  Turkey  Syrian Arab Rep.   \n",
            "6   2008                                  Turkey  Syrian Arab Rep.   \n",
            "7   2008                                  Turkey  Syrian Arab Rep.   \n",
            "8   2009                                  Turkey  Syrian Arab Rep.   \n",
            "9   2009                                  Turkey  Syrian Arab Rep.   \n",
            "10  2010                                  Turkey  Syrian Arab Rep.   \n",
            "11  2010                                  Turkey  Syrian Arab Rep.   \n",
            "12  2011                                  Turkey  Syrian Arab Rep.   \n",
            "13  2011                                  Turkey  Syrian Arab Rep.   \n",
            "14  2012                                  Turkey  Syrian Arab Rep.   \n",
            "15  2012                                  Turkey  Syrian Arab Rep.   \n",
            "16  2013                                  Turkey  Syrian Arab Rep.   \n",
            "17  2013                                  Turkey  Syrian Arab Rep.   \n",
            "18  2014                                  Turkey  Syrian Arab Rep.   \n",
            "19  2014                                  Turkey  Syrian Arab Rep.   \n",
            "20  2015                                  Turkey  Syrian Arab Rep.   \n",
            "21  2015                                  Turkey  Syrian Arab Rep.   \n",
            "22  2016                                  Turkey  Syrian Arab Rep.   \n",
            "23  2016                                  Turkey  Syrian Arab Rep.   \n",
            "24  2017                                  Turkey  Syrian Arab Rep.   \n",
            "25  2017                                  Turkey  Syrian Arab Rep.   \n",
            "\n",
            "                             Population type    Value  \n",
            "0                             Asylum-seekers        7  \n",
            "1   Refugees (incl. refugee-like situations)       12  \n",
            "2                             Asylum-seekers        5  \n",
            "3   Refugees (incl. refugee-like situations)        2  \n",
            "4                             Asylum-seekers       19  \n",
            "5   Refugees (incl. refugee-like situations)        5  \n",
            "6                             Asylum-seekers       21  \n",
            "7   Refugees (incl. refugee-like situations)       12  \n",
            "8                             Asylum-seekers       56  \n",
            "9   Refugees (incl. refugee-like situations)        8  \n",
            "10                            Asylum-seekers       65  \n",
            "11  Refugees (incl. refugee-like situations)        9  \n",
            "12                            Asylum-seekers      205  \n",
            "13  Refugees (incl. refugee-like situations)       19  \n",
            "14                            Asylum-seekers      200  \n",
            "15  Refugees (incl. refugee-like situations)   248466  \n",
            "16                            Asylum-seekers      110  \n",
            "17  Refugees (incl. refugee-like situations)   585601  \n",
            "18                            Asylum-seekers      250  \n",
            "19  Refugees (incl. refugee-like situations)  1557899  \n",
            "20                            Asylum-seekers      297  \n",
            "21  Refugees (incl. refugee-like situations)  2503549  \n",
            "22                            Asylum-seekers      180  \n",
            "23  Refugees (incl. refugee-like situations)  2823987  \n",
            "24                            Asylum-seekers      163  \n",
            "25  Refugees (incl. refugee-like situations)  3424237  \n"
          ],
          "name": "stdout"
        }
      ]
    },
    {
      "metadata": {
        "id": "4bGuIAO0dUUs",
        "colab_type": "text"
      },
      "cell_type": "markdown",
      "source": [
        "###Turkey\n",
        "Modified Syrian Statistics Table - Year, Country, Population type, Value"
      ]
    },
    {
      "metadata": {
        "id": "kNj9hagwKe3m",
        "colab_type": "code",
        "outputId": "909b34ed-5372-4b76-94a1-fadc4c8302c7",
        "colab": {
          "base_uri": "https://localhost:8080/",
          "height": 952
        }
      },
      "cell_type": "code",
      "source": [
        "turkeystats = samplesyrianpop_turkey[[\"Year\", \"Country / territory of asylum/residence\", \"Population type\", \"Value\"]]\n",
        "print(turkeystats)"
      ],
      "execution_count": 0,
      "outputs": [
        {
          "output_type": "stream",
          "text": [
            "    Year Country / territory of asylum/residence  \\\n",
            "0   2005                                  Turkey   \n",
            "1   2005                                  Turkey   \n",
            "2   2006                                  Turkey   \n",
            "3   2006                                  Turkey   \n",
            "4   2007                                  Turkey   \n",
            "5   2007                                  Turkey   \n",
            "6   2008                                  Turkey   \n",
            "7   2008                                  Turkey   \n",
            "8   2009                                  Turkey   \n",
            "9   2009                                  Turkey   \n",
            "10  2010                                  Turkey   \n",
            "11  2010                                  Turkey   \n",
            "12  2011                                  Turkey   \n",
            "13  2011                                  Turkey   \n",
            "14  2012                                  Turkey   \n",
            "15  2012                                  Turkey   \n",
            "16  2013                                  Turkey   \n",
            "17  2013                                  Turkey   \n",
            "18  2014                                  Turkey   \n",
            "19  2014                                  Turkey   \n",
            "20  2015                                  Turkey   \n",
            "21  2015                                  Turkey   \n",
            "22  2016                                  Turkey   \n",
            "23  2016                                  Turkey   \n",
            "24  2017                                  Turkey   \n",
            "25  2017                                  Turkey   \n",
            "\n",
            "                             Population type    Value  \n",
            "0                             Asylum-seekers        7  \n",
            "1   Refugees (incl. refugee-like situations)       12  \n",
            "2                             Asylum-seekers        5  \n",
            "3   Refugees (incl. refugee-like situations)        2  \n",
            "4                             Asylum-seekers       19  \n",
            "5   Refugees (incl. refugee-like situations)        5  \n",
            "6                             Asylum-seekers       21  \n",
            "7   Refugees (incl. refugee-like situations)       12  \n",
            "8                             Asylum-seekers       56  \n",
            "9   Refugees (incl. refugee-like situations)        8  \n",
            "10                            Asylum-seekers       65  \n",
            "11  Refugees (incl. refugee-like situations)        9  \n",
            "12                            Asylum-seekers      205  \n",
            "13  Refugees (incl. refugee-like situations)       19  \n",
            "14                            Asylum-seekers      200  \n",
            "15  Refugees (incl. refugee-like situations)   248466  \n",
            "16                            Asylum-seekers      110  \n",
            "17  Refugees (incl. refugee-like situations)   585601  \n",
            "18                            Asylum-seekers      250  \n",
            "19  Refugees (incl. refugee-like situations)  1557899  \n",
            "20                            Asylum-seekers      297  \n",
            "21  Refugees (incl. refugee-like situations)  2503549  \n",
            "22                            Asylum-seekers      180  \n",
            "23  Refugees (incl. refugee-like situations)  2823987  \n",
            "24                            Asylum-seekers      163  \n",
            "25  Refugees (incl. refugee-like situations)  3424237  \n"
          ],
          "name": "stdout"
        }
      ]
    },
    {
      "metadata": {
        "id": "I3xbeOQ_TYjf",
        "colab_type": "code",
        "outputId": "50db1856-6628-4305-e98c-4ddaaba4da64",
        "colab": {
          "base_uri": "https://localhost:8080/",
          "height": 1428
        }
      },
      "cell_type": "code",
      "source": [
        "turkeystats[\"year_type\"]= turkeystats[\"Year\"].apply(str) + \"_\" + turkeystats[\"Population type\"]\n",
        "print(turkeystats)"
      ],
      "execution_count": 0,
      "outputs": [
        {
          "output_type": "stream",
          "text": [
            "    Year Country / territory of asylum/residence  \\\n",
            "0   2005                                  Turkey   \n",
            "1   2005                                  Turkey   \n",
            "2   2006                                  Turkey   \n",
            "3   2006                                  Turkey   \n",
            "4   2007                                  Turkey   \n",
            "5   2007                                  Turkey   \n",
            "6   2008                                  Turkey   \n",
            "7   2008                                  Turkey   \n",
            "8   2009                                  Turkey   \n",
            "9   2009                                  Turkey   \n",
            "10  2010                                  Turkey   \n",
            "11  2010                                  Turkey   \n",
            "12  2011                                  Turkey   \n",
            "13  2011                                  Turkey   \n",
            "14  2012                                  Turkey   \n",
            "15  2012                                  Turkey   \n",
            "16  2013                                  Turkey   \n",
            "17  2013                                  Turkey   \n",
            "18  2014                                  Turkey   \n",
            "19  2014                                  Turkey   \n",
            "20  2015                                  Turkey   \n",
            "21  2015                                  Turkey   \n",
            "22  2016                                  Turkey   \n",
            "23  2016                                  Turkey   \n",
            "24  2017                                  Turkey   \n",
            "25  2017                                  Turkey   \n",
            "\n",
            "                             Population type    Value  \\\n",
            "0                             Asylum-seekers        7   \n",
            "1   Refugees (incl. refugee-like situations)       12   \n",
            "2                             Asylum-seekers        5   \n",
            "3   Refugees (incl. refugee-like situations)        2   \n",
            "4                             Asylum-seekers       19   \n",
            "5   Refugees (incl. refugee-like situations)        5   \n",
            "6                             Asylum-seekers       21   \n",
            "7   Refugees (incl. refugee-like situations)       12   \n",
            "8                             Asylum-seekers       56   \n",
            "9   Refugees (incl. refugee-like situations)        8   \n",
            "10                            Asylum-seekers       65   \n",
            "11  Refugees (incl. refugee-like situations)        9   \n",
            "12                            Asylum-seekers      205   \n",
            "13  Refugees (incl. refugee-like situations)       19   \n",
            "14                            Asylum-seekers      200   \n",
            "15  Refugees (incl. refugee-like situations)   248466   \n",
            "16                            Asylum-seekers      110   \n",
            "17  Refugees (incl. refugee-like situations)   585601   \n",
            "18                            Asylum-seekers      250   \n",
            "19  Refugees (incl. refugee-like situations)  1557899   \n",
            "20                            Asylum-seekers      297   \n",
            "21  Refugees (incl. refugee-like situations)  2503549   \n",
            "22                            Asylum-seekers      180   \n",
            "23  Refugees (incl. refugee-like situations)  2823987   \n",
            "24                            Asylum-seekers      163   \n",
            "25  Refugees (incl. refugee-like situations)  3424237   \n",
            "\n",
            "                                        year_type  \n",
            "0                             2005_Asylum-seekers  \n",
            "1   2005_Refugees (incl. refugee-like situations)  \n",
            "2                             2006_Asylum-seekers  \n",
            "3   2006_Refugees (incl. refugee-like situations)  \n",
            "4                             2007_Asylum-seekers  \n",
            "5   2007_Refugees (incl. refugee-like situations)  \n",
            "6                             2008_Asylum-seekers  \n",
            "7   2008_Refugees (incl. refugee-like situations)  \n",
            "8                             2009_Asylum-seekers  \n",
            "9   2009_Refugees (incl. refugee-like situations)  \n",
            "10                            2010_Asylum-seekers  \n",
            "11  2010_Refugees (incl. refugee-like situations)  \n",
            "12                            2011_Asylum-seekers  \n",
            "13  2011_Refugees (incl. refugee-like situations)  \n",
            "14                            2012_Asylum-seekers  \n",
            "15  2012_Refugees (incl. refugee-like situations)  \n",
            "16                            2013_Asylum-seekers  \n",
            "17  2013_Refugees (incl. refugee-like situations)  \n",
            "18                            2014_Asylum-seekers  \n",
            "19  2014_Refugees (incl. refugee-like situations)  \n",
            "20                            2015_Asylum-seekers  \n",
            "21  2015_Refugees (incl. refugee-like situations)  \n",
            "22                            2016_Asylum-seekers  \n",
            "23  2016_Refugees (incl. refugee-like situations)  \n",
            "24                            2017_Asylum-seekers  \n",
            "25  2017_Refugees (incl. refugee-like situations)  \n"
          ],
          "name": "stdout"
        }
      ]
    },
    {
      "metadata": {
        "id": "lAaXues3d0m9",
        "colab_type": "text"
      },
      "cell_type": "markdown",
      "source": [
        "###Turkey Totals\n",
        "Combined totals for asylum seekers and refugees from Syria in Turkey per year."
      ]
    },
    {
      "metadata": {
        "id": "6fLO1VEqVYwU",
        "colab_type": "code",
        "outputId": "f6786102-765b-464d-b780-b52af04ccf36",
        "colab": {
          "base_uri": "https://localhost:8080/",
          "height": 527
        }
      },
      "cell_type": "code",
      "source": [
        "turkeytotals = turkeystats.groupby(\"Year\").sum()\n",
        "print(turkeytotals)\n",
        "\n",
        "turkeytotals[\"Country\"] = \"Turkey\"\n",
        "turkeytotals[\"Years\"] = turkeytotals.index\n",
        "print(turkeytotals)"
      ],
      "execution_count": 0,
      "outputs": [
        {
          "output_type": "stream",
          "text": [
            "        Value\n",
            "Year         \n",
            "2005       19\n",
            "2006        7\n",
            "2007       24\n",
            "2008       33\n",
            "2009       64\n",
            "2010       74\n",
            "2011      224\n",
            "2012   248666\n",
            "2013   585711\n",
            "2014  1558149\n",
            "2015  2503846\n",
            "2016  2824167\n",
            "2017  3424400\n",
            "        Value Country  Years\n",
            "Year                        \n",
            "2005       19  Turkey   2005\n",
            "2006        7  Turkey   2006\n",
            "2007       24  Turkey   2007\n",
            "2008       33  Turkey   2008\n",
            "2009       64  Turkey   2009\n",
            "2010       74  Turkey   2010\n",
            "2011      224  Turkey   2011\n",
            "2012   248666  Turkey   2012\n",
            "2013   585711  Turkey   2013\n",
            "2014  1558149  Turkey   2014\n",
            "2015  2503846  Turkey   2015\n",
            "2016  2824167  Turkey   2016\n",
            "2017  3424400  Turkey   2017\n"
          ],
          "name": "stdout"
        }
      ]
    },
    {
      "metadata": {
        "id": "Yyq6ttGMd7GQ",
        "colab_type": "text"
      },
      "cell_type": "markdown",
      "source": [
        "##Final Syrian Statistics Table:\n",
        "\n",
        "Merging Syrian Statistics table of Jordan and Lebanon (already merged) with Turkey:"
      ]
    },
    {
      "metadata": {
        "id": "B6cX9kx2K5e1",
        "colab_type": "code",
        "outputId": "b28082a4-336d-4709-c093-2bb383e72e53",
        "colab": {
          "base_uri": "https://localhost:8080/",
          "height": 3332
        }
      },
      "cell_type": "code",
      "source": [
        "syrians_jd_lb_tk = syrians_jd_lb.merge(turkeystats, on=\"year_type\", how=\"outer\")\n",
        "print(syrians_jd_lb_tk)"
      ],
      "execution_count": 0,
      "outputs": [
        {
          "output_type": "stream",
          "text": [
            "    Year_x Country / territory of asylum/residence_x  \\\n",
            "0   2005.0                                    Jordan   \n",
            "1   2005.0                                    Jordan   \n",
            "2   2006.0                                    Jordan   \n",
            "3   2006.0                                    Jordan   \n",
            "4   2007.0                                    Jordan   \n",
            "5   2007.0                                    Jordan   \n",
            "6   2008.0                                    Jordan   \n",
            "7   2008.0                                    Jordan   \n",
            "8   2009.0                                    Jordan   \n",
            "9   2009.0                                    Jordan   \n",
            "10  2010.0                                    Jordan   \n",
            "11  2010.0                                    Jordan   \n",
            "12  2011.0                                    Jordan   \n",
            "13  2011.0                                    Jordan   \n",
            "14  2012.0                                    Jordan   \n",
            "15  2012.0                                    Jordan   \n",
            "16  2013.0                                    Jordan   \n",
            "17  2014.0                                    Jordan   \n",
            "18  2015.0                                    Jordan   \n",
            "19  2016.0                                    Jordan   \n",
            "20  2017.0                                    Jordan   \n",
            "21     NaN                                       NaN   \n",
            "22     NaN                                       NaN   \n",
            "23     NaN                                       NaN   \n",
            "24     NaN                                       NaN   \n",
            "25     NaN                                       NaN   \n",
            "\n",
            "                           Population type_x   Value_x  \\\n",
            "0                             Asylum-seekers      65.0   \n",
            "1   Refugees (incl. refugee-like situations)      40.0   \n",
            "2                             Asylum-seekers      57.0   \n",
            "3   Refugees (incl. refugee-like situations)      42.0   \n",
            "4                             Asylum-seekers      60.0   \n",
            "5   Refugees (incl. refugee-like situations)      41.0   \n",
            "6                             Asylum-seekers     124.0   \n",
            "7   Refugees (incl. refugee-like situations)      44.0   \n",
            "8                             Asylum-seekers     144.0   \n",
            "9   Refugees (incl. refugee-like situations)     138.0   \n",
            "10                            Asylum-seekers     287.0   \n",
            "11  Refugees (incl. refugee-like situations)     198.0   \n",
            "12                            Asylum-seekers    2618.0   \n",
            "13  Refugees (incl. refugee-like situations)     193.0   \n",
            "14                            Asylum-seekers     491.0   \n",
            "15  Refugees (incl. refugee-like situations)  238798.0   \n",
            "16  Refugees (incl. refugee-like situations)  585304.0   \n",
            "17  Refugees (incl. refugee-like situations)  623112.0   \n",
            "18  Refugees (incl. refugee-like situations)  628223.0   \n",
            "19  Refugees (incl. refugee-like situations)  648836.0   \n",
            "20  Refugees (incl. refugee-like situations)  653031.0   \n",
            "21                                       NaN       NaN   \n",
            "22                                       NaN       NaN   \n",
            "23                                       NaN       NaN   \n",
            "24                                       NaN       NaN   \n",
            "25                                       NaN       NaN   \n",
            "\n",
            "                                        year_type  Year_y  \\\n",
            "0                             2005_Asylum-seekers     NaN   \n",
            "1   2005_Refugees (incl. refugee-like situations)     NaN   \n",
            "2                             2006_Asylum-seekers  2006.0   \n",
            "3   2006_Refugees (incl. refugee-like situations)  2006.0   \n",
            "4                             2007_Asylum-seekers  2007.0   \n",
            "5   2007_Refugees (incl. refugee-like situations)  2007.0   \n",
            "6                             2008_Asylum-seekers  2008.0   \n",
            "7   2008_Refugees (incl. refugee-like situations)  2008.0   \n",
            "8                             2009_Asylum-seekers  2009.0   \n",
            "9   2009_Refugees (incl. refugee-like situations)  2009.0   \n",
            "10                            2010_Asylum-seekers  2010.0   \n",
            "11  2010_Refugees (incl. refugee-like situations)  2010.0   \n",
            "12                            2011_Asylum-seekers  2011.0   \n",
            "13  2011_Refugees (incl. refugee-like situations)  2011.0   \n",
            "14                            2012_Asylum-seekers  2012.0   \n",
            "15  2012_Refugees (incl. refugee-like situations)  2012.0   \n",
            "16  2013_Refugees (incl. refugee-like situations)  2013.0   \n",
            "17  2014_Refugees (incl. refugee-like situations)  2014.0   \n",
            "18  2015_Refugees (incl. refugee-like situations)  2015.0   \n",
            "19  2016_Refugees (incl. refugee-like situations)  2016.0   \n",
            "20  2017_Refugees (incl. refugee-like situations)  2017.0   \n",
            "21                            2013_Asylum-seekers  2013.0   \n",
            "22                            2014_Asylum-seekers  2014.0   \n",
            "23                            2015_Asylum-seekers  2015.0   \n",
            "24                            2016_Asylum-seekers  2016.0   \n",
            "25                            2017_Asylum-seekers  2017.0   \n",
            "\n",
            "   Country / territory of asylum/residence_y  \\\n",
            "0                                        NaN   \n",
            "1                                        NaN   \n",
            "2                                    Lebanon   \n",
            "3                                    Lebanon   \n",
            "4                                    Lebanon   \n",
            "5                                    Lebanon   \n",
            "6                                    Lebanon   \n",
            "7                                    Lebanon   \n",
            "8                                    Lebanon   \n",
            "9                                    Lebanon   \n",
            "10                                   Lebanon   \n",
            "11                                   Lebanon   \n",
            "12                                   Lebanon   \n",
            "13                                   Lebanon   \n",
            "14                                   Lebanon   \n",
            "15                                   Lebanon   \n",
            "16                                   Lebanon   \n",
            "17                                   Lebanon   \n",
            "18                                   Lebanon   \n",
            "19                                   Lebanon   \n",
            "20                                   Lebanon   \n",
            "21                                   Lebanon   \n",
            "22                                   Lebanon   \n",
            "23                                   Lebanon   \n",
            "24                                   Lebanon   \n",
            "25                                   Lebanon   \n",
            "\n",
            "                           Population type_y    Value_y  Year  \\\n",
            "0                                        NaN        NaN  2005   \n",
            "1                                        NaN        NaN  2005   \n",
            "2                             Asylum-seekers       18.0  2006   \n",
            "3   Refugees (incl. refugee-like situations)        6.0  2006   \n",
            "4                             Asylum-seekers       42.0  2007   \n",
            "5   Refugees (incl. refugee-like situations)       48.0  2007   \n",
            "6                             Asylum-seekers       66.0  2008   \n",
            "7   Refugees (incl. refugee-like situations)       84.0  2008   \n",
            "8                             Asylum-seekers      100.0  2009   \n",
            "9   Refugees (incl. refugee-like situations)       90.0  2009   \n",
            "10                            Asylum-seekers      141.0  2010   \n",
            "11  Refugees (incl. refugee-like situations)       64.0  2010   \n",
            "12                            Asylum-seekers      367.0  2011   \n",
            "13  Refugees (incl. refugee-like situations)      124.0  2011   \n",
            "14                            Asylum-seekers      242.0  2012   \n",
            "15  Refugees (incl. refugee-like situations)   126939.0  2012   \n",
            "16  Refugees (incl. refugee-like situations)   851284.0  2013   \n",
            "17  Refugees (incl. refugee-like situations)  1147494.0  2014   \n",
            "18  Refugees (incl. refugee-like situations)  1062690.0  2015   \n",
            "19  Refugees (incl. refugee-like situations)  1005503.0  2016   \n",
            "20  Refugees (incl. refugee-like situations)   992127.0  2017   \n",
            "21                            Asylum-seekers      331.0  2013   \n",
            "22                            Asylum-seekers      417.0  2014   \n",
            "23                            Asylum-seekers       15.0  2015   \n",
            "24                            Asylum-seekers       10.0  2016   \n",
            "25                            Asylum-seekers        8.0  2017   \n",
            "\n",
            "   Country / territory of asylum/residence  \\\n",
            "0                                   Turkey   \n",
            "1                                   Turkey   \n",
            "2                                   Turkey   \n",
            "3                                   Turkey   \n",
            "4                                   Turkey   \n",
            "5                                   Turkey   \n",
            "6                                   Turkey   \n",
            "7                                   Turkey   \n",
            "8                                   Turkey   \n",
            "9                                   Turkey   \n",
            "10                                  Turkey   \n",
            "11                                  Turkey   \n",
            "12                                  Turkey   \n",
            "13                                  Turkey   \n",
            "14                                  Turkey   \n",
            "15                                  Turkey   \n",
            "16                                  Turkey   \n",
            "17                                  Turkey   \n",
            "18                                  Turkey   \n",
            "19                                  Turkey   \n",
            "20                                  Turkey   \n",
            "21                                  Turkey   \n",
            "22                                  Turkey   \n",
            "23                                  Turkey   \n",
            "24                                  Turkey   \n",
            "25                                  Turkey   \n",
            "\n",
            "                             Population type    Value  \n",
            "0                             Asylum-seekers        7  \n",
            "1   Refugees (incl. refugee-like situations)       12  \n",
            "2                             Asylum-seekers        5  \n",
            "3   Refugees (incl. refugee-like situations)        2  \n",
            "4                             Asylum-seekers       19  \n",
            "5   Refugees (incl. refugee-like situations)        5  \n",
            "6                             Asylum-seekers       21  \n",
            "7   Refugees (incl. refugee-like situations)       12  \n",
            "8                             Asylum-seekers       56  \n",
            "9   Refugees (incl. refugee-like situations)        8  \n",
            "10                            Asylum-seekers       65  \n",
            "11  Refugees (incl. refugee-like situations)        9  \n",
            "12                            Asylum-seekers      205  \n",
            "13  Refugees (incl. refugee-like situations)       19  \n",
            "14                            Asylum-seekers      200  \n",
            "15  Refugees (incl. refugee-like situations)   248466  \n",
            "16  Refugees (incl. refugee-like situations)   585601  \n",
            "17  Refugees (incl. refugee-like situations)  1557899  \n",
            "18  Refugees (incl. refugee-like situations)  2503549  \n",
            "19  Refugees (incl. refugee-like situations)  2823987  \n",
            "20  Refugees (incl. refugee-like situations)  3424237  \n",
            "21                            Asylum-seekers      110  \n",
            "22                            Asylum-seekers      250  \n",
            "23                            Asylum-seekers      297  \n",
            "24                            Asylum-seekers      180  \n",
            "25                            Asylum-seekers      163  \n"
          ],
          "name": "stdout"
        }
      ]
    },
    {
      "metadata": {
        "id": "ZZhmOhwmeDnp",
        "colab_type": "text"
      },
      "cell_type": "markdown",
      "source": [
        "##Final Syrian Totals Table\n",
        "\n",
        "Merging totals refugees + asylum seekers per year for Jordan, Lebanon (already merged), and Turkey:"
      ]
    },
    {
      "metadata": {
        "id": "kHT9ot5iXEcd",
        "colab_type": "code",
        "outputId": "b1b6cf07-04f2-45c3-c1a6-a04afa324a7e",
        "colab": {
          "base_uri": "https://localhost:8080/",
          "height": 452
        }
      },
      "cell_type": "code",
      "source": [
        "totals_jd_lb_tk = turkeytotals.merge(totals_jd_lb, on=\"Years\", how=\"outer\")\n",
        "pd.DataFrame(totals_jd_lb_tk)\n",
        "\n"
      ],
      "execution_count": 0,
      "outputs": [
        {
          "output_type": "execute_result",
          "data": {
            "text/html": [
              "<div>\n",
              "<style scoped>\n",
              "    .dataframe tbody tr th:only-of-type {\n",
              "        vertical-align: middle;\n",
              "    }\n",
              "\n",
              "    .dataframe tbody tr th {\n",
              "        vertical-align: top;\n",
              "    }\n",
              "\n",
              "    .dataframe thead th {\n",
              "        text-align: right;\n",
              "    }\n",
              "</style>\n",
              "<table border=\"1\" class=\"dataframe\">\n",
              "  <thead>\n",
              "    <tr style=\"text-align: right;\">\n",
              "      <th></th>\n",
              "      <th>Value</th>\n",
              "      <th>Country</th>\n",
              "      <th>Years</th>\n",
              "      <th>Value_x</th>\n",
              "      <th>Country_x</th>\n",
              "      <th>Value_y</th>\n",
              "      <th>Country_y</th>\n",
              "    </tr>\n",
              "  </thead>\n",
              "  <tbody>\n",
              "    <tr>\n",
              "      <th>0</th>\n",
              "      <td>19</td>\n",
              "      <td>Turkey</td>\n",
              "      <td>2005</td>\n",
              "      <td>105</td>\n",
              "      <td>Jordan</td>\n",
              "      <td>NaN</td>\n",
              "      <td>NaN</td>\n",
              "    </tr>\n",
              "    <tr>\n",
              "      <th>1</th>\n",
              "      <td>7</td>\n",
              "      <td>Turkey</td>\n",
              "      <td>2006</td>\n",
              "      <td>99</td>\n",
              "      <td>Jordan</td>\n",
              "      <td>24.0</td>\n",
              "      <td>Lebanon</td>\n",
              "    </tr>\n",
              "    <tr>\n",
              "      <th>2</th>\n",
              "      <td>24</td>\n",
              "      <td>Turkey</td>\n",
              "      <td>2007</td>\n",
              "      <td>101</td>\n",
              "      <td>Jordan</td>\n",
              "      <td>90.0</td>\n",
              "      <td>Lebanon</td>\n",
              "    </tr>\n",
              "    <tr>\n",
              "      <th>3</th>\n",
              "      <td>33</td>\n",
              "      <td>Turkey</td>\n",
              "      <td>2008</td>\n",
              "      <td>168</td>\n",
              "      <td>Jordan</td>\n",
              "      <td>150.0</td>\n",
              "      <td>Lebanon</td>\n",
              "    </tr>\n",
              "    <tr>\n",
              "      <th>4</th>\n",
              "      <td>64</td>\n",
              "      <td>Turkey</td>\n",
              "      <td>2009</td>\n",
              "      <td>282</td>\n",
              "      <td>Jordan</td>\n",
              "      <td>190.0</td>\n",
              "      <td>Lebanon</td>\n",
              "    </tr>\n",
              "    <tr>\n",
              "      <th>5</th>\n",
              "      <td>74</td>\n",
              "      <td>Turkey</td>\n",
              "      <td>2010</td>\n",
              "      <td>485</td>\n",
              "      <td>Jordan</td>\n",
              "      <td>205.0</td>\n",
              "      <td>Lebanon</td>\n",
              "    </tr>\n",
              "    <tr>\n",
              "      <th>6</th>\n",
              "      <td>224</td>\n",
              "      <td>Turkey</td>\n",
              "      <td>2011</td>\n",
              "      <td>2811</td>\n",
              "      <td>Jordan</td>\n",
              "      <td>491.0</td>\n",
              "      <td>Lebanon</td>\n",
              "    </tr>\n",
              "    <tr>\n",
              "      <th>7</th>\n",
              "      <td>248666</td>\n",
              "      <td>Turkey</td>\n",
              "      <td>2012</td>\n",
              "      <td>239289</td>\n",
              "      <td>Jordan</td>\n",
              "      <td>127181.0</td>\n",
              "      <td>Lebanon</td>\n",
              "    </tr>\n",
              "    <tr>\n",
              "      <th>8</th>\n",
              "      <td>585711</td>\n",
              "      <td>Turkey</td>\n",
              "      <td>2013</td>\n",
              "      <td>585304</td>\n",
              "      <td>Jordan</td>\n",
              "      <td>851615.0</td>\n",
              "      <td>Lebanon</td>\n",
              "    </tr>\n",
              "    <tr>\n",
              "      <th>9</th>\n",
              "      <td>1558149</td>\n",
              "      <td>Turkey</td>\n",
              "      <td>2014</td>\n",
              "      <td>623112</td>\n",
              "      <td>Jordan</td>\n",
              "      <td>1147911.0</td>\n",
              "      <td>Lebanon</td>\n",
              "    </tr>\n",
              "    <tr>\n",
              "      <th>10</th>\n",
              "      <td>2503846</td>\n",
              "      <td>Turkey</td>\n",
              "      <td>2015</td>\n",
              "      <td>628223</td>\n",
              "      <td>Jordan</td>\n",
              "      <td>1062705.0</td>\n",
              "      <td>Lebanon</td>\n",
              "    </tr>\n",
              "    <tr>\n",
              "      <th>11</th>\n",
              "      <td>2824167</td>\n",
              "      <td>Turkey</td>\n",
              "      <td>2016</td>\n",
              "      <td>648836</td>\n",
              "      <td>Jordan</td>\n",
              "      <td>1005513.0</td>\n",
              "      <td>Lebanon</td>\n",
              "    </tr>\n",
              "    <tr>\n",
              "      <th>12</th>\n",
              "      <td>3424400</td>\n",
              "      <td>Turkey</td>\n",
              "      <td>2017</td>\n",
              "      <td>653031</td>\n",
              "      <td>Jordan</td>\n",
              "      <td>992135.0</td>\n",
              "      <td>Lebanon</td>\n",
              "    </tr>\n",
              "  </tbody>\n",
              "</table>\n",
              "</div>"
            ],
            "text/plain": [
              "      Value Country  Years  Value_x Country_x    Value_y Country_y\n",
              "0        19  Turkey   2005      105    Jordan        NaN       NaN\n",
              "1         7  Turkey   2006       99    Jordan       24.0   Lebanon\n",
              "2        24  Turkey   2007      101    Jordan       90.0   Lebanon\n",
              "3        33  Turkey   2008      168    Jordan      150.0   Lebanon\n",
              "4        64  Turkey   2009      282    Jordan      190.0   Lebanon\n",
              "5        74  Turkey   2010      485    Jordan      205.0   Lebanon\n",
              "6       224  Turkey   2011     2811    Jordan      491.0   Lebanon\n",
              "7    248666  Turkey   2012   239289    Jordan   127181.0   Lebanon\n",
              "8    585711  Turkey   2013   585304    Jordan   851615.0   Lebanon\n",
              "9   1558149  Turkey   2014   623112    Jordan  1147911.0   Lebanon\n",
              "10  2503846  Turkey   2015   628223    Jordan  1062705.0   Lebanon\n",
              "11  2824167  Turkey   2016   648836    Jordan  1005513.0   Lebanon\n",
              "12  3424400  Turkey   2017   653031    Jordan   992135.0   Lebanon"
            ]
          },
          "metadata": {
            "tags": []
          },
          "execution_count": 66
        }
      ]
    },
    {
      "metadata": {
        "id": "FoWcUWMP03d-",
        "colab_type": "code",
        "outputId": "935084c8-946a-45d2-9d52-a003551b0e88",
        "colab": {
          "base_uri": "https://localhost:8080/",
          "height": 297
        }
      },
      "cell_type": "code",
      "source": [
        "refugeetotals = pd.DataFrame([[\"2010\",74,485,205,], [\"2011\",224,2811,491], [\"2012\",248666,239289,127181], [\"2013\",585711,585304,851615], [\"2014\", 1558149,623112,1147911], [\"2015\",2503846,628223,1062705], [\"2016\",2824167,648836,1005513], [\"2017\",3424400,653031,992135]], columns=[\"Year\", \"Turkey\", \"Jordan\",\"Lebanon\"])\n",
        "refugeetotals['Total Pop'] = refugeetotals.sum(axis=1)\n",
        "pd.DataFrame(refugeetotals)"
      ],
      "execution_count": 0,
      "outputs": [
        {
          "output_type": "execute_result",
          "data": {
            "text/html": [
              "<div>\n",
              "<style scoped>\n",
              "    .dataframe tbody tr th:only-of-type {\n",
              "        vertical-align: middle;\n",
              "    }\n",
              "\n",
              "    .dataframe tbody tr th {\n",
              "        vertical-align: top;\n",
              "    }\n",
              "\n",
              "    .dataframe thead th {\n",
              "        text-align: right;\n",
              "    }\n",
              "</style>\n",
              "<table border=\"1\" class=\"dataframe\">\n",
              "  <thead>\n",
              "    <tr style=\"text-align: right;\">\n",
              "      <th></th>\n",
              "      <th>Year</th>\n",
              "      <th>Turkey</th>\n",
              "      <th>Jordan</th>\n",
              "      <th>Lebanon</th>\n",
              "      <th>Total Pop</th>\n",
              "    </tr>\n",
              "  </thead>\n",
              "  <tbody>\n",
              "    <tr>\n",
              "      <th>0</th>\n",
              "      <td>2010</td>\n",
              "      <td>74</td>\n",
              "      <td>485</td>\n",
              "      <td>205</td>\n",
              "      <td>764</td>\n",
              "    </tr>\n",
              "    <tr>\n",
              "      <th>1</th>\n",
              "      <td>2011</td>\n",
              "      <td>224</td>\n",
              "      <td>2811</td>\n",
              "      <td>491</td>\n",
              "      <td>3526</td>\n",
              "    </tr>\n",
              "    <tr>\n",
              "      <th>2</th>\n",
              "      <td>2012</td>\n",
              "      <td>248666</td>\n",
              "      <td>239289</td>\n",
              "      <td>127181</td>\n",
              "      <td>615136</td>\n",
              "    </tr>\n",
              "    <tr>\n",
              "      <th>3</th>\n",
              "      <td>2013</td>\n",
              "      <td>585711</td>\n",
              "      <td>585304</td>\n",
              "      <td>851615</td>\n",
              "      <td>2022630</td>\n",
              "    </tr>\n",
              "    <tr>\n",
              "      <th>4</th>\n",
              "      <td>2014</td>\n",
              "      <td>1558149</td>\n",
              "      <td>623112</td>\n",
              "      <td>1147911</td>\n",
              "      <td>3329172</td>\n",
              "    </tr>\n",
              "    <tr>\n",
              "      <th>5</th>\n",
              "      <td>2015</td>\n",
              "      <td>2503846</td>\n",
              "      <td>628223</td>\n",
              "      <td>1062705</td>\n",
              "      <td>4194774</td>\n",
              "    </tr>\n",
              "    <tr>\n",
              "      <th>6</th>\n",
              "      <td>2016</td>\n",
              "      <td>2824167</td>\n",
              "      <td>648836</td>\n",
              "      <td>1005513</td>\n",
              "      <td>4478516</td>\n",
              "    </tr>\n",
              "    <tr>\n",
              "      <th>7</th>\n",
              "      <td>2017</td>\n",
              "      <td>3424400</td>\n",
              "      <td>653031</td>\n",
              "      <td>992135</td>\n",
              "      <td>5069566</td>\n",
              "    </tr>\n",
              "  </tbody>\n",
              "</table>\n",
              "</div>"
            ],
            "text/plain": [
              "   Year   Turkey  Jordan  Lebanon  Total Pop\n",
              "0  2010       74     485      205        764\n",
              "1  2011      224    2811      491       3526\n",
              "2  2012   248666  239289   127181     615136\n",
              "3  2013   585711  585304   851615    2022630\n",
              "4  2014  1558149  623112  1147911    3329172\n",
              "5  2015  2503846  628223  1062705    4194774\n",
              "6  2016  2824167  648836  1005513    4478516\n",
              "7  2017  3424400  653031   992135    5069566"
            ]
          },
          "metadata": {
            "tags": []
          },
          "execution_count": 67
        }
      ]
    },
    {
      "metadata": {
        "id": "VqqtvBKRakUD",
        "colab_type": "code",
        "outputId": "2b665575-bf44-4c54-80e5-c3ce7fbc4584",
        "colab": {
          "base_uri": "https://localhost:8080/",
          "height": 298
        }
      },
      "cell_type": "code",
      "source": [
        "import matplotlib.pyplot as plt\n",
        "ax = plt.gca()\n",
        "refugeetotals.plot(kind='bar',x='Year',y='Turkey',ax=ax)\n",
        "refugeetotals.plot(kind='bar',x='Year',y='Jordan', color='grey', ax=ax)\n",
        "refugeetotals.plot(kind='bar',x='Year',y='Lebanon', color='purple', ax=ax)\n",
        "plt.show()"
      ],
      "execution_count": 0,
      "outputs": [
        {
          "output_type": "display_data",
          "data": {
            "image/png": "[encoded data removed]",
            "text/plain": [
              "<Figure size 432x288 with 1 Axes>"
            ]
          },
          "metadata": {
            "tags": []
          }
        }
      ]
    },
    {
      "metadata": {
        "id": "8jPXi9hP1Dog",
        "colab_type": "code",
        "outputId": "06bec195-eaea-437c-a8e7-244112770160",
        "colab": {
          "base_uri": "https://localhost:8080/",
          "height": 283
        }
      },
      "cell_type": "code",
      "source": [
        "ax = plt.gca()\n",
        "refugeetotals.plot(kind='line',x='Year',y='Turkey',ax=ax)\n",
        "refugeetotals.plot(kind='line',x='Year',y='Jordan', color='grey', ax=ax)\n",
        "refugeetotals.plot(kind='line',x='Year',y='Lebanon', color='purple', ax=ax)\n",
        "plt.show()"
      ],
      "execution_count": 0,
      "outputs": [
        {
          "output_type": "display_data",
          "data": {
            "image/png": "[encoded data removed]",
            "text/plain": [
              "<Figure size 432x288 with 1 Axes>"
            ]
          },
          "metadata": {
            "tags": []
          }
        }
      ]
    },
    {
      "metadata": {
        "id": "Na23FrxR1O89",
        "colab_type": "code",
        "colab": {}
      },
      "cell_type": "code",
      "source": [
        ""
      ],
      "execution_count": 0,
      "outputs": []
    }
  ]
}